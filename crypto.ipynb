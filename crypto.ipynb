{
 "cells": [
  {
   "cell_type": "code",
   "execution_count": 5,
   "id": "initial_id",
   "metadata": {
    "collapsed": true,
    "ExecuteTime": {
     "end_time": "2023-09-23T19:00:41.392388100Z",
     "start_time": "2023-09-23T19:00:41.387381900Z"
    }
   },
   "outputs": [],
   "source": [
    "from Crypto.Signature import pkcs1_15\n",
    "from Crypto.Hash import SHA256\n",
    "from Crypto.PublicKey import RSA"
   ]
  },
  {
   "cell_type": "code",
   "execution_count": 16,
   "outputs": [],
   "source": [
    "# generate private key\n",
    "key = RSA.generate(2048)\n",
    "private_key = key.export_key()\n",
    "file_out = open(\"private_key.der\", \"wb\")\n",
    "file_out.write(private_key)\n",
    "file_out.close()\n",
    "\n",
    "# generate public key\n",
    "public_key = key.publickey().export_key()\n",
    "file_out = open(\"public_key.der\", \"wb\")\n",
    "file_out.write(public_key)\n",
    "file_out.close()"
   ],
   "metadata": {
    "collapsed": false,
    "ExecuteTime": {
     "end_time": "2023-09-23T19:15:29.667058Z",
     "start_time": "2023-09-23T19:15:28.615168100Z"
    }
   },
   "id": "1d34a7a212655c0a"
  },
  {
   "cell_type": "code",
   "execution_count": 21,
   "outputs": [],
   "source": [
    "# generate private key\n",
    "key = RSA.generate(2048)\n",
    "private_key = key.export_key()\n",
    "file_out = open(\"private_key2.der\", \"wb\")\n",
    "file_out.write(private_key)\n",
    "file_out.close()\n",
    "\n",
    "# generate public key\n",
    "public_key = key.publickey().export_key()\n",
    "file_out = open(\"public_key2.der\", \"wb\")\n",
    "file_out.write(public_key)\n",
    "file_out.close()"
   ],
   "metadata": {
    "collapsed": false,
    "ExecuteTime": {
     "end_time": "2023-09-23T19:27:27.030983300Z",
     "start_time": "2023-09-23T19:27:25.810224Z"
    }
   },
   "id": "9df5006e0f062715"
  },
  {
   "cell_type": "code",
   "execution_count": 29,
   "outputs": [],
   "source": [
    "message = b'To be signed'\n",
    "key = RSA.import_key(open('private_key.der').read())\n",
    "h = SHA256.new(message)\n",
    "signature = pkcs1_15.new(key).sign(h)"
   ],
   "metadata": {
    "collapsed": false,
    "ExecuteTime": {
     "end_time": "2023-09-24T05:18:55.501260Z",
     "start_time": "2023-09-24T05:18:55.457224400Z"
    }
   },
   "id": "12f10d07c8df32ca"
  },
  {
   "cell_type": "code",
   "execution_count": 30,
   "outputs": [
    {
     "name": "stdout",
     "output_type": "stream",
     "text": [
      "The signature is valid.\n"
     ]
    }
   ],
   "source": [
    "try:\n",
    "    pkcs1_15.new(key).verify(h, signature)\n",
    "    print(\"The signature is valid.\")\n",
    "except (ValueError, TypeError):\n",
    "   print(\"The signature is not valid.\")"
   ],
   "metadata": {
    "collapsed": false,
    "ExecuteTime": {
     "end_time": "2023-09-24T05:18:55.718864600Z",
     "start_time": "2023-09-24T05:18:55.714353100Z"
    }
   },
   "id": "10014dab8f226bc"
  },
  {
   "cell_type": "code",
   "execution_count": null,
   "outputs": [],
   "source": [],
   "metadata": {
    "collapsed": false
   },
   "id": "9c9a8d934917ffc5"
  }
 ],
 "metadata": {
  "kernelspec": {
   "display_name": "Python 3",
   "language": "python",
   "name": "python3"
  },
  "language_info": {
   "codemirror_mode": {
    "name": "ipython",
    "version": 2
   },
   "file_extension": ".py",
   "mimetype": "text/x-python",
   "name": "python",
   "nbconvert_exporter": "python",
   "pygments_lexer": "ipython2",
   "version": "2.7.6"
  }
 },
 "nbformat": 4,
 "nbformat_minor": 5
}
