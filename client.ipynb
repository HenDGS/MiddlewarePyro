{
 "cells": [
  {
   "cell_type": "code",
   "execution_count": 37,
   "outputs": [],
   "source": [
    "import pandas as pd\n",
    "\n",
    "\n",
    "# read withouth index or header\n",
    "df = pd.read_csv('csvs/stock.csv') "
   ],
   "metadata": {
    "collapsed": false,
    "ExecuteTime": {
     "end_time": "2023-09-25T03:16:55.449550500Z",
     "start_time": "2023-09-25T03:16:55.444826200Z"
    }
   },
   "id": "2316bc8ab745fe7f"
  },
  {
   "cell_type": "code",
   "execution_count": 41,
   "outputs": [
    {
     "data": {
      "text/plain": "'20/09/2023'"
     },
     "execution_count": 41,
     "metadata": {},
     "output_type": "execute_result"
    }
   ],
   "source": [
    "# List every date value inside df\n",
    "df['date'].values\n",
    "# get one and use it to see the format\n",
    "df['date'].values[0]"
   ],
   "metadata": {
    "collapsed": false,
    "ExecuteTime": {
     "end_time": "2023-09-25T03:17:38.409766600Z",
     "start_time": "2023-09-25T03:17:38.402582500Z"
    }
   },
   "id": "6ec3196dce0ee95d"
  },
  {
   "cell_type": "code",
   "execution_count": 47,
   "outputs": [
    {
     "data": {
      "text/plain": "   code  quantity       date      hour\n0   120        20 2023-09-20  00:04:08\n1   120        20 2023-09-21  00:04:08\n2   120        20 2023-09-22  00:04:08",
      "text/html": "<div>\n<style scoped>\n    .dataframe tbody tr th:only-of-type {\n        vertical-align: middle;\n    }\n\n    .dataframe tbody tr th {\n        vertical-align: top;\n    }\n\n    .dataframe thead th {\n        text-align: right;\n    }\n</style>\n<table border=\"1\" class=\"dataframe\">\n  <thead>\n    <tr style=\"text-align: right;\">\n      <th></th>\n      <th>code</th>\n      <th>quantity</th>\n      <th>date</th>\n      <th>hour</th>\n    </tr>\n  </thead>\n  <tbody>\n    <tr>\n      <th>0</th>\n      <td>120</td>\n      <td>20</td>\n      <td>2023-09-20</td>\n      <td>00:04:08</td>\n    </tr>\n    <tr>\n      <th>1</th>\n      <td>120</td>\n      <td>20</td>\n      <td>2023-09-21</td>\n      <td>00:04:08</td>\n    </tr>\n    <tr>\n      <th>2</th>\n      <td>120</td>\n      <td>20</td>\n      <td>2023-09-22</td>\n      <td>00:04:08</td>\n    </tr>\n  </tbody>\n</table>\n</div>"
     },
     "execution_count": 47,
     "metadata": {},
     "output_type": "execute_result"
    }
   ],
   "source": [
    "# its a string in format dd/mm/yyyy. So now get stock with date between 20/09/2023 and 22/09/2024\n",
    "df['date'] = pd.to_datetime(df['date'], format='%d/%m/%Y')\n",
    "# now get stock with date between 20/09/2023 and 22/09/2024\n",
    "df[(df['date'] >= '2023-09-20') & (df['date'] <= '2023-09-22')]"
   ],
   "metadata": {
    "collapsed": false,
    "ExecuteTime": {
     "end_time": "2023-09-25T03:18:43.321028800Z",
     "start_time": "2023-09-25T03:18:43.311045900Z"
    }
   },
   "id": "7275d0272bc47565"
  },
  {
   "cell_type": "code",
   "execution_count": null,
   "outputs": [],
   "source": [],
   "metadata": {
    "collapsed": false
   },
   "id": "7e780b52a87afbe0"
  }
 ],
 "metadata": {
  "kernelspec": {
   "display_name": "Python 3",
   "language": "python",
   "name": "python3"
  },
  "language_info": {
   "codemirror_mode": {
    "name": "ipython",
    "version": 2
   },
   "file_extension": ".py",
   "mimetype": "text/x-python",
   "name": "python",
   "nbconvert_exporter": "python",
   "pygments_lexer": "ipython2",
   "version": "2.7.6"
  }
 },
 "nbformat": 4,
 "nbformat_minor": 5
}
