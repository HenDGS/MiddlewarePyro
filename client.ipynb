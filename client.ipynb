{
 "cells": [
  {
   "cell_type": "code",
   "execution_count": 37,
   "outputs": [],
   "source": [
    "import pandas as pd\n",
    "\n",
    "df = pd.read_csv('csvs/stock.csv') "
   ],
   "metadata": {
    "collapsed": false,
    "ExecuteTime": {
     "end_time": "2023-09-25T03:16:55.449550500Z",
     "start_time": "2023-09-25T03:16:55.444826200Z"
    }
   },
   "id": "2316bc8ab745fe7f"
  },
  {
   "cell_type": "code",
   "execution_count": 41,
   "outputs": [
    {
     "data": {
      "text/plain": "'20/09/2023'"
     },
     "execution_count": 41,
     "metadata": {},
     "output_type": "execute_result"
    }
   ],
   "source": [
    "df['date'].values\n",
    "df['date'].values[0]"
   ],
   "metadata": {
    "collapsed": false,
    "ExecuteTime": {
     "end_time": "2023-09-25T03:17:38.409766600Z",
     "start_time": "2023-09-25T03:17:38.402582500Z"
    }
   },
   "id": "6ec3196dce0ee95d"
  },
  {
   "cell_type": "code",
   "execution_count": 47,
   "outputs": [
    {
     "data": {
      "text/plain": "   code  quantity       date      hour\n0   120        20 2023-09-20  00:04:08\n1   120        20 2023-09-21  00:04:08\n2   120        20 2023-09-22  00:04:08",
      "text/html": "<div>\n<style scoped>\n    .dataframe tbody tr th:only-of-type {\n        vertical-align: middle;\n    }\n\n    .dataframe tbody tr th {\n        vertical-align: top;\n    }\n\n    .dataframe thead th {\n        text-align: right;\n    }\n</style>\n<table border=\"1\" class=\"dataframe\">\n  <thead>\n    <tr style=\"text-align: right;\">\n      <th></th>\n      <th>code</th>\n      <th>quantity</th>\n      <th>date</th>\n      <th>hour</th>\n    </tr>\n  </thead>\n  <tbody>\n    <tr>\n      <th>0</th>\n      <td>120</td>\n      <td>20</td>\n      <td>2023-09-20</td>\n      <td>00:04:08</td>\n    </tr>\n    <tr>\n      <th>1</th>\n      <td>120</td>\n      <td>20</td>\n      <td>2023-09-21</td>\n      <td>00:04:08</td>\n    </tr>\n    <tr>\n      <th>2</th>\n      <td>120</td>\n      <td>20</td>\n      <td>2023-09-22</td>\n      <td>00:04:08</td>\n    </tr>\n  </tbody>\n</table>\n</div>"
     },
     "execution_count": 47,
     "metadata": {},
     "output_type": "execute_result"
    }
   ],
   "source": [
    "df['date'] = pd.to_datetime(df['date'], format='%d/%m/%Y')\n",
    "df[(df['date'] >= '2023-09-20') & (df['date'] <= '2023-09-22')]"
   ],
   "metadata": {
    "collapsed": false,
    "ExecuteTime": {
     "end_time": "2023-09-25T03:18:43.321028800Z",
     "start_time": "2023-09-25T03:18:43.311045900Z"
    }
   },
   "id": "7275d0272bc47565"
  },
  {
   "cell_type": "code",
   "execution_count": null,
   "outputs": [],
   "source": [],
   "metadata": {
    "collapsed": false
   },
   "id": "7e780b52a87afbe0"
  },
  {
   "cell_type": "code",
   "execution_count": 13,
   "outputs": [],
   "source": [
    "import pandas as pd\n",
    "\n",
    "\n",
    "df = pd.read_csv('csvs/products.csv') "
   ],
   "metadata": {
    "collapsed": false,
    "ExecuteTime": {
     "end_time": "2023-09-28T14:40:18.284272900Z",
     "start_time": "2023-09-28T14:40:18.279271Z"
    }
   },
   "id": "b0c714b9bd253a5b"
  },
  {
   "cell_type": "code",
   "execution_count": 16,
   "outputs": [
    {
     "data": {
      "text/plain": "  code       name description  quantity  price  stock        date      hour\n6   99  Kitkatttt   Chocolate        80      3     50  25/09/2023  20:48:23",
      "text/html": "<div>\n<style scoped>\n    .dataframe tbody tr th:only-of-type {\n        vertical-align: middle;\n    }\n\n    .dataframe tbody tr th {\n        vertical-align: top;\n    }\n\n    .dataframe thead th {\n        text-align: right;\n    }\n</style>\n<table border=\"1\" class=\"dataframe\">\n  <thead>\n    <tr style=\"text-align: right;\">\n      <th></th>\n      <th>code</th>\n      <th>name</th>\n      <th>description</th>\n      <th>quantity</th>\n      <th>price</th>\n      <th>stock</th>\n      <th>date</th>\n      <th>hour</th>\n    </tr>\n  </thead>\n  <tbody>\n    <tr>\n      <th>6</th>\n      <td>99</td>\n      <td>Kitkatttt</td>\n      <td>Chocolate</td>\n      <td>80</td>\n      <td>3</td>\n      <td>50</td>\n      <td>25/09/2023</td>\n      <td>20:48:23</td>\n    </tr>\n  </tbody>\n</table>\n</div>"
     },
     "execution_count": 16,
     "metadata": {},
     "output_type": "execute_result"
    }
   ],
   "source": [
    "df[df['stock'] < df['quantity']]"
   ],
   "metadata": {
    "collapsed": false,
    "ExecuteTime": {
     "end_time": "2023-09-28T14:41:34.345155600Z",
     "start_time": "2023-09-28T14:41:34.330270500Z"
    }
   },
   "id": "b3f1b10d741d66d"
  },
  {
   "cell_type": "code",
   "execution_count": null,
   "outputs": [],
   "source": [],
   "metadata": {
    "collapsed": false
   },
   "id": "8bfcc88cd24595b9"
  }
 ],
 "metadata": {
  "kernelspec": {
   "display_name": "Python 3",
   "language": "python",
   "name": "python3"
  },
  "language_info": {
   "codemirror_mode": {
    "name": "ipython",
    "version": 2
   },
   "file_extension": ".py",
   "mimetype": "text/x-python",
   "name": "python",
   "nbconvert_exporter": "python",
   "pygments_lexer": "ipython2",
   "version": "2.7.6"
  }
 },
 "nbformat": 4,
 "nbformat_minor": 5
}
